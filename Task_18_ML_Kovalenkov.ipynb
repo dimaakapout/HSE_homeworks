{
 "cells": [
  {
   "cell_type": "markdown",
   "metadata": {},
   "source": [
    "# Зависимость дисперсии среднего от числа примеров в эксперименте (Домашнее задание)\n",
    "\n",
    "### Цель: построить доверительный интервал для среднего значения для нормального закона."
   ]
  },
  {
   "cell_type": "markdown",
   "metadata": {},
   "source": [
    "    ### Коваленков Дмитрий"
   ]
  },
  {
   "cell_type": "code",
   "execution_count": 1,
   "metadata": {},
   "outputs": [],
   "source": [
    "%matplotlib inline\n",
    "from matplotlib import pyplot as plt\n",
    "import numpy as np\n",
    "from scipy import stats as st"
   ]
  },
  {
   "cell_type": "code",
   "execution_count": 2,
   "metadata": {},
   "outputs": [],
   "source": [
    "# Функция генерации экспериментов\n",
    "def gen_experiments(mean=0, scale=10, n_samples=10, n_experiments=500):\n",
    "    return np.random.normal(loc=mean,\n",
    "                            scale=scale,\n",
    "                            size=(n_experiments, n_samples))"
   ]
  },
  {
   "cell_type": "code",
   "execution_count": 3,
   "metadata": {},
   "outputs": [
    {
     "data": {
      "image/png": "[encoded data removed]",
      "text/plain": [
       "<Figure size 432x288 with 1 Axes>"
      ]
     },
     "metadata": {},
     "output_type": "display_data"
    }
   ],
   "source": [
    "# TODO: оценить зависимость дисперсии \n",
    "#       от числа примеров в эксперименте\n",
    "#       (построить график)\n",
    "\n",
    "ans = []\n",
    "for n in range(10,1000,10):\n",
    "    exp = gen_experiments(n_samples=n)\n",
    "    _ = exp.mean(axis = 1).std()\n",
    "    ans.append(_)\n",
    "\n",
    "# Строим график    \n",
    "_ = plt.plot(np.arange(10,1000,10), ans)\n",
    "_ = plt.xlabel('Число экспериментов')\n",
    "_ = plt.ylabel('Отклонение выборочного среднего')"
   ]
  },
  {
   "cell_type": "markdown",
   "metadata": {},
   "source": [
    "## Доверительный интервал для среднего"
   ]
  },
  {
   "cell_type": "code",
   "execution_count": 4,
   "metadata": {},
   "outputs": [],
   "source": [
    "# TODO: построить доверительный интервал для n_samples=10\n",
    "#       при уровне значимости 0.975 (95%)"
   ]
  },
  {
   "cell_type": "code",
   "execution_count": 5,
   "metadata": {},
   "outputs": [],
   "source": [
    "sample = gen_experiments()               # генерим выборку с mean =  0 и std = 10\n",
    "standart_sample = sample / sample.std()  # Операция стандартизации\n",
    "means = standart_sample.mean(axis = 1)   # Считаем среднее для каждого эксперимента\n",
    "std = means.std()                        # Считаем std средних"
   ]
  },
  {
   "cell_type": "code",
   "execution_count": 6,
   "metadata": {},
   "outputs": [
    {
     "data": {
      "text/plain": [
       "0.30474843204058055"
      ]
     },
     "execution_count": 6,
     "metadata": {},
     "output_type": "execute_result"
    }
   ],
   "source": [
    "std"
   ]
  },
  {
   "cell_type": "code",
   "execution_count": 7,
   "metadata": {},
   "outputs": [
    {
     "name": "stdout",
     "output_type": "stream",
     "text": [
      "z: 19.59963984540054\n",
      "margin: 5.972959511445901\n",
      "interval: -5.972959511445901 5.972959511445901\n"
     ]
    }
   ],
   "source": [
    "# Строим доверительный интервал\n",
    "confidence = 0.975\n",
    "z = st.norm.ppf(confidence, scale = 10)\n",
    "\n",
    "margin = z * std\n",
    "\n",
    "print('z: %s' % z)\n",
    "print('margin: %s' % margin)\n",
    "print('interval: %s %s' % (- margin, margin))"
   ]
  },
  {
   "cell_type": "code",
   "execution_count": 8,
   "metadata": {},
   "outputs": [],
   "source": [
    "# TODO: провести эксперимент и показать корректность полученного интервала \n",
    "# (провести 100 экспериментов и убедиться, что примерно 95 средних из 100 попадают \n",
    "# в построенный доверительный интервал)"
   ]
  },
  {
   "cell_type": "code",
   "execution_count": 9,
   "metadata": {},
   "outputs": [
    {
     "data": {
      "image/png": "[encoded data removed]",
      "text/plain": [
       "<Figure size 720x360 with 1 Axes>"
      ]
     },
     "metadata": {},
     "output_type": "display_data"
    }
   ],
   "source": [
    "\n",
    "plt.hist(sample.mean(axis=1), edgecolor = 'k', lw=1, bins=30, density=True, alpha = 0.8)\n",
    "plt.axvline(margin, color = 'k', lw=2)\n",
    "plt.axvline(-margin, color = 'k', lw=2)\n",
    "plt.fill_betweenx(np.linspace(plt.ylim()[0], plt.ylim()[1]), plt.xlim()[0], -margin, alpha = .4, color = 'r', label = '5%')\n",
    "plt.fill_betweenx(np.linspace(plt.ylim()[0], plt.ylim()[1]), margin, plt.xlim()[1], alpha = .4, color = 'r')\n",
    "\n",
    "plt.fill_betweenx(np.linspace(plt.ylim()[0], plt.ylim()[1]), -margin, margin, alpha = .4, color = 'y', label = '95%')\n",
    "\n",
    "plt.legend()\n",
    "\n",
    "plt.gcf().set_size_inches(10,5)"
   ]
  },
  {
   "cell_type": "code",
   "execution_count": 25,
   "metadata": {},
   "outputs": [
    {
     "data": {
      "text/plain": [
       "0.954"
      ]
     },
     "execution_count": 25,
     "metadata": {},
     "output_type": "execute_result"
    }
   ],
   "source": [
    "# Доля средних, попадающих в доверительный интервал (500 экспериментов)\n",
    "sample[abs(sample.mean(axis = 1)) <= margin  ].shape[0] / sample.shape[0]"
   ]
  },
  {
   "cell_type": "code",
   "execution_count": 57,
   "metadata": {},
   "outputs": [
    {
     "data": {
      "text/plain": [
       "0.952"
      ]
     },
     "execution_count": 57,
     "metadata": {},
     "output_type": "execute_result"
    }
   ],
   "source": [
    "# Доля средних, попадающих в доверительный интервал (1000 экспериментов)\n",
    "sample = gen_experiments(n_experiments=1000, n_samples=10) \n",
    "sample[abs(sample.mean(axis = 1)) <= margin  ].shape[0] / sample.shape[0]"
   ]
  },
  {
   "cell_type": "code",
   "execution_count": null,
   "metadata": {},
   "outputs": [],
   "source": []
  },
  {
   "cell_type": "code",
   "execution_count": null,
   "metadata": {},
   "outputs": [],
   "source": []
  }
 ],
 "metadata": {
  "kernelspec": {
   "display_name": "Python 3",
   "language": "python",
   "name": "python3"
  },
  "language_info": {
   "codemirror_mode": {
    "name": "ipython",
    "version": 3
   },
   "file_extension": ".py",
   "mimetype": "text/x-python",
   "name": "python",
   "nbconvert_exporter": "python",
   "pygments_lexer": "ipython3",
   "version": "3.6.5"
  }
 },
 "nbformat": 4,
 "nbformat_minor": 2
}
