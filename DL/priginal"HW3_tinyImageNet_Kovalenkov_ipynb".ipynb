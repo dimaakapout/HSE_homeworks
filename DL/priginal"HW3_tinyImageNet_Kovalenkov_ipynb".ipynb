{
  "nbformat": 4,
  "nbformat_minor": 0,
  "metadata": {
    "kernelspec": {
      "display_name": "Python 3",
      "language": "python",
      "name": "python3"
    },
    "language_info": {
      "codemirror_mode": {
        "name": "ipython",
        "version": 3
      },
      "file_extension": ".py",
      "mimetype": "text/x-python",
      "name": "python",
      "nbconvert_exporter": "python",
      "pygments_lexer": "ipython3",
      "version": "3.7.3"
    },
    "colab": {
      "name": "priginal\"HW3_tinyImageNet_Kovalenkov.ipynb\"",
      "provenance": [],
      "collapsed_sections": [],
      "include_colab_link": true
    },
    "accelerator": "GPU"
  },
  "cells": [
    {
      "cell_type": "markdown",
      "metadata": {
        "id": "view-in-github",
        "colab_type": "text"
      },
      "source": [
        "<a href=\"https://colab.research.google.com/github/dimaakapout/HSE_homeworks/blob/master/DL/priginal%22HW3_tinyImageNet_Kovalenkov_ipynb%22.ipynb\" target=\"_parent\"><img src=\"https://colab.research.google.com/assets/colab-badge.svg\" alt=\"Open In Colab\"/></a>"
      ]
    },
    {
      "cell_type": "code",
      "metadata": {
        "id": "ZB_Ax7xfLDDy",
        "colab_type": "code",
        "colab": {}
      },
      "source": [
        "#plt.imshow(x1[0].cpu().numpy().transpose(1,2,0))"
      ],
      "execution_count": null,
      "outputs": []
    },
    {
      "cell_type": "code",
      "metadata": {
        "id": "FIB8HWa4LDBA",
        "colab_type": "code",
        "colab": {}
      },
      "source": [
        "ОТЧЕТ \n",
        "\n",
        "1. арх 2конв + свертка + линейный 600-200 дали около 20%"
      ],
      "execution_count": null,
      "outputs": []
    },
    {
      "cell_type": "code",
      "metadata": {
        "id": "7ITenLraoq93",
        "colab_type": "code",
        "colab": {}
      },
      "source": [
        "def training_step(batch, model, device=torch.device('cpu')):\n",
        "    data, target = batch\n",
        "    \n",
        "    # закидываем данные и модель на один и тот же device\n",
        "    data, target = data.to(device), target.to(device)\n",
        "    model.to(device)\n",
        "    \n",
        "    # включаем train mode (обязательно например при наличии dropout, batch_norm и т.д.)\n",
        "    model.train()\n",
        "    \n",
        "    logits = model(data)\n",
        "    loss = F.cross_entropy(logits, target)\n",
        "    \n",
        "    # loss.item() эквивалентно loss.detach().cpu().numpy()\n",
        "    logs = {'train_ce_loss': loss.item()}\n",
        "    \n",
        "    return {'loss': loss, 'log': logs}\n",
        "\n",
        "def train_one_epoch(model, loader, optimizer, scheduler=None, device=torch.device('cpu')):\n",
        "    logs = []\n",
        "    for batch in tqdm(loader):\n",
        "        output = training_step(batch, model, device)\n",
        "        loss = output['loss']\n",
        "        loss.backward()\n",
        "        optimizer.step()\n",
        "        optimizer.zero_grad()\n",
        "        if scheduler is not None:\n",
        "            scheduler.step()\n",
        "        logs.append(output['log'])\n",
        "    return logs\n",
        "\n",
        "def train_epoch_end(logs):\n",
        "    avg_train_ce_loss = np.mean([x['train_ce_loss'] for x in logs])\n",
        "    return {'avg_train_ce_loss': avg_train_ce_loss}\n",
        "\n",
        "def validation_step(batch, model, device=torch.device('cpu')):\n",
        "    data, target = batch\n",
        "    \n",
        "    # закидываем данные и модель на один и тот же device\n",
        "    data, target = data.to(device), target.to(device)\n",
        "    model.to(device)\n",
        "    \n",
        "    # включаем eval mode (обязательно например при наличии dropout, batch_norm и т.д.)\n",
        "    model.eval()\n",
        "    \n",
        "    start_time = time.perf_counter()\n",
        "    with torch.no_grad():\n",
        "        logits = model(data)\n",
        "    inference_time_per_batch = time.perf_counter() - start_time\n",
        "    \n",
        "    pred = logits.argmax(dim=1, keepdim=True)\n",
        "    \n",
        "    correct = pred.eq(target.view_as(pred)).sum().item()\n",
        "    log = {'correct': correct, 'inference_time_per_batch': inference_time_per_batch, 'amount': pred.shape[0]}\n",
        "    return {'log': log}\n",
        "\n",
        "def val_one_epoch(model, loader, device=torch.device('cpu')):\n",
        "    logs = []\n",
        "    for batch in tqdm(loader):\n",
        "        output = validation_step(batch, model, device)\n",
        "        logs.append(output['log'])\n",
        "    return logs\n",
        "        \n",
        "def validation_epoch_end(logs):\n",
        "    total_amount = np.sum([x['amount'] for x in logs])\n",
        "    total_correct = np.sum([x['correct'] for x in logs])\n",
        "    accuracy = 100 * total_correct / total_amount \n",
        "    avg_inference_time_per_batch = np.mean([x['inference_time_per_batch'] for x in logs])\n",
        "    return {'val_accuracy (%)': accuracy, 'avg_inference_time_per_batch (sec)': avg_inference_time_per_batch}\n",
        "    \n",
        "def configure_optimizers(model):\n",
        "    optimizer = torch.optim.Adam(model.parameters(), lr=0.0003)\n",
        "    scheduler = None\n",
        "    return optimizer, scheduler"
      ],
      "execution_count": null,
      "outputs": []
    },
    {
      "cell_type": "code",
      "metadata": {
        "id": "5gNAD9E2k0Pz",
        "colab_type": "code",
        "colab": {}
      },
      "source": [
        "device = torch.device(\"cuda\" if torch.cuda.is_available() else \"cpu\")\n",
        "optimizer, scheduler = configure_optimizers(model)\n",
        "num_epochs = 5\n",
        "\n",
        "for epoch in range(num_epochs):\n",
        "    print(f\"Epoch {epoch}:\")\n",
        "    train_logs = train_one_epoch(model, train_loader, optimizer, scheduler, device)\n",
        "    print(train_epoch_end(train_logs))\n",
        "    val_logs = val_one_epoch(model, val_loader, device)\n",
        "    print(validation_epoch_end(val_logs))"
      ],
      "execution_count": null,
      "outputs": []
    },
    {
      "cell_type": "code",
      "metadata": {
        "id": "kOXfxSCDk0NN",
        "colab_type": "code",
        "colab": {}
      },
      "source": [
        "print(\"Test stage:\")\n",
        "val_logs = val_one_epoch(model, val_loader)\n",
        "print(validation_epoch_end(val_logs))"
      ],
      "execution_count": null,
      "outputs": []
    },
    {
      "cell_type": "code",
      "metadata": {
        "id": "qkEuWkWWbLGf",
        "colab_type": "code",
        "colab": {
          "base_uri": "https://localhost:8080/",
          "height": 186
        },
        "outputId": "df888d31-e7c6-4ddc-ec0d-c6f8410f668a"
      },
      "source": [
        "val_accuracy = comput_val_acc(...)\n",
        "print(\"Validation accuracy: %.2f%%\" % (val_accuracy * 100))"
      ],
      "execution_count": null,
      "outputs": [
        {
          "output_type": "error",
          "ename": "NameError",
          "evalue": "ignored",
          "traceback": [
            "\u001b[0;31m---------------------------------------------------------------------------\u001b[0m",
            "\u001b[0;31mNameError\u001b[0m                                 Traceback (most recent call last)",
            "\u001b[0;32m<ipython-input-67-268882aeb904>\u001b[0m in \u001b[0;36m<module>\u001b[0;34m()\u001b[0m\n\u001b[0;32m----> 1\u001b[0;31m \u001b[0mval_accuracy\u001b[0m \u001b[0;34m=\u001b[0m \u001b[0mcomput_val_acc\u001b[0m\u001b[0;34m(\u001b[0m\u001b[0;34m...\u001b[0m\u001b[0;34m)\u001b[0m\u001b[0;34m\u001b[0m\u001b[0;34m\u001b[0m\u001b[0m\n\u001b[0m\u001b[1;32m      2\u001b[0m \u001b[0mprint\u001b[0m\u001b[0;34m(\u001b[0m\u001b[0;34m\"Validation accuracy: %.2f%%\"\u001b[0m \u001b[0;34m%\u001b[0m \u001b[0;34m(\u001b[0m\u001b[0mval_accuracy\u001b[0m \u001b[0;34m*\u001b[0m \u001b[0;36m100\u001b[0m\u001b[0;34m)\u001b[0m\u001b[0;34m)\u001b[0m\u001b[0;34m\u001b[0m\u001b[0;34m\u001b[0m\u001b[0m\n",
            "\u001b[0;31mNameError\u001b[0m: name 'comput_val_acc' is not defined"
          ]
        }
      ]
    },
    {
      "cell_type": "code",
      "metadata": {
        "id": "HCc1xvdQSS28",
        "colab_type": "code",
        "colab": {}
      },
      "source": [
        ""
      ],
      "execution_count": null,
      "outputs": []
    },
    {
      "cell_type": "code",
      "metadata": {
        "id": "UhN5SCPhF1_n",
        "colab_type": "code",
        "colab": {}
      },
      "source": [
        ""
      ],
      "execution_count": null,
      "outputs": []
    },
    {
      "cell_type": "code",
      "metadata": {
        "id": "0A-47IArAYsF",
        "colab_type": "code",
        "colab": {}
      },
      "source": [
        "# Параметры модели\n",
        "\n"
      ],
      "execution_count": null,
      "outputs": []
    },
    {
      "cell_type": "markdown",
      "metadata": {
        "collapsed": true,
        "id": "9pbjYIlybLFx",
        "colab_type": "text"
      },
      "source": [
        "# Homework 3"
      ]
    },
    {
      "cell_type": "markdown",
      "metadata": {
        "id": "1gtGRfyMbLF2",
        "colab_type": "text"
      },
      "source": [
        "Домашние задания являются полностью опциональными, оценки никуда не идут.\n",
        "\n",
        "### Дедлайн: 21.06.20 (вс) 21:00 мск\n",
        "\n",
        "### Формат сдачи\n",
        "\n",
        "__Вариант 1__: этот ipynb файл с кодом\n",
        "\n",
        "дополнительно добавьте:\n",
        "* \"checkpoint\" файл из `torch.save(model.state_dict(), ...)` который содержит веса модели для задачи 1, 3 и поможет удостовериться в точности на валидации\n",
        "* имеется возможность перезапустить весь ipynb файл, чтобы убедиться в финальном результате, например в 1й и 3й задаче (можете сделать конструкцию if else, н: если файл с весами присутствует, тогда показываем точность, иначе запускаем training рутину и выводим в конце точность)\n",
        "\n",
        "__Вариант 2__:\n",
        "сдаёте в виде набора .py скриптов (н. train.py, test.py, ...) на каждое задание с инструкцией как запустить и убедиться в полученных вами результатах"
      ]
    },
    {
      "cell_type": "markdown",
      "metadata": {
        "id": "ac_iHQymbLF5",
        "colab_type": "text"
      },
      "source": [
        "# Задача 1 - Train your own model (6 баллов)"
      ]
    },
    {
      "cell_type": "markdown",
      "metadata": {
        "id": "r3gFVudKbLF9",
        "colab_type": "text"
      },
      "source": [
        "В этом задании вы построете сверточную нейросеть (CNN) для решения Tiny ImageNet классификации. Постарайтесь добиться максимальной точности на валидации.\n",
        "\n",
        "### Оценивание\n",
        "\n",
        "* За преодоление каждого порога даётся 1 балл\n",
        "  * 25.0%\n",
        "  * 30.0%\n",
        "  * 32.5%\n",
        "  * 35.0%\n",
        "  * 37.5%\n",
        "  * 40.0%\n",
        "    \n",
        "### Ограничения\n",
        "\n",
        "* __Нельзя использовать предобученные нейросети.__ Сами архитектуры использовать можно.\n",
        "\n",
        "### Советы\n",
        "\n",
        "* Одно изменение в один момент времени\n",
        "* Используйте GPU, постарайтесь написать device-agnostic код, чтобы нигде не присутствовало `.cuda()`, а было `.to(device)`\n",
        "* Логируйте промежуточный результаты, например в TensorBoard\n",
        "* С чем можно поиграться: optimizer, lr scheduler, архитектура, инициализации, loss, регуляризации (dropout, cutmix, weight decay, аугментации и тд), и кучу всего разного\n",
        "* Про \"фишечки\", которые можно внедрить для улучшения качества, можно посмотреть здесь https://arxiv.org/abs/1812.01187\n",
        "* Постарайтесь по максимуму переиспользовать написанный код, то есть реализовать в виде набора функций например тренировочную рутину и ее использовать в задаче 1, 2, 4\n",
        "* Как обычно: читабельный, понятный код приветствуется\n",
        "\n",
        "### Какую архитектуру выбрать для обучения?\n",
        "* пишем сами\n",
        "* берём готовую архитектуру (например отсюда https://github.com/rwightman/pytorch-image-models (очень классный ресурс с модными архитектурами) или отсюда https://pytorch.org/docs/stable/torchvision/models.html)"
      ]
    },
    {
      "cell_type": "code",
      "metadata": {
        "id": "jf-UJL4rbLGA",
        "colab_type": "code",
        "colab": {}
      },
      "source": [
        "import numpy as np\n",
        "import matplotlib.pyplot as plt\n"
      ],
      "execution_count": null,
      "outputs": []
    },
    {
      "cell_type": "code",
      "metadata": {
        "id": "NoC1CuUkSxvj",
        "colab_type": "code",
        "colab": {}
      },
      "source": [
        "%matplotlib inline\n",
        "plt.rcParams['figure.figsize'] = (15.0, 12.0) # размер изображений по умолчанию"
      ],
      "execution_count": null,
      "outputs": []
    },
    {
      "cell_type": "code",
      "metadata": {
        "id": "4eGjsqCobLGO",
        "colab_type": "code",
        "colab": {}
      },
      "source": [
        "#import tiny_imagenet\n",
        "#tiny_imagenet.download(\".\")"
      ],
      "execution_count": null,
      "outputs": []
    },
    {
      "cell_type": "code",
      "metadata": {
        "id": "P8jJl25ULWsS",
        "colab_type": "code",
        "colab": {}
      },
      "source": [
        "!wget http://cs231n.stanford.edu/tiny-imagenet-200.zip # Stanford 200 imagenet"
      ],
      "execution_count": null,
      "outputs": []
    },
    {
      "cell_type": "markdown",
      "metadata": {
        "id": "kDm63-G4bLGV",
        "colab_type": "text"
      },
      "source": [
        "Тренировочные и валидационные данные лежат в `tiny-imagenet-200/train` и `tiny-imagenet-200/val`."
      ]
    },
    {
      "cell_type": "code",
      "metadata": {
        "id": "i6Nb7JcLLtEO",
        "colab_type": "code",
        "colab": {}
      },
      "source": [
        "import torchvision\n",
        "import torch\n",
        "import torch.nn as nn\n",
        "import torch.nn.functional as F\n",
        "from torchvision import transforms\n",
        "import numpy as np\n",
        "import time\n",
        "from tqdm import tqdm\n",
        "import os\n",
        "from urllib.request import urlretrieve\n"
      ],
      "execution_count": null,
      "outputs": []
    },
    {
      "cell_type": "code",
      "metadata": {
        "id": "PnxiSQLNOjeR",
        "colab_type": "code",
        "colab": {}
      },
      "source": [
        "# Разархивация архива\n",
        "if not os.path.exists(\"tiny-imagenet-200\"):\n",
        "    import zipfile\n",
        "    with zipfile.ZipFile(\"tiny-imagenet-200.zip\", 'r') as archive:\n",
        "        archive.extractall(\"tiny-imagenet-200\")"
      ],
      "execution_count": null,
      "outputs": []
    },
    {
      "cell_type": "code",
      "metadata": {
        "id": "wRs2btvefmIM",
        "colab_type": "code",
        "colab": {}
      },
      "source": [
        "# Разархивация архива\n",
        "if not os.path.exists(\"tiny-imagenet-200\"):\n",
        "    import zipfile\n",
        "    with zipfile.ZipFile(\"tiny-imagenet-200.zip\", 'r') as archive:\n",
        "        archive.extractall(\"tiny-imagenet-200\")\n",
        "\n",
        "\n",
        "dataset_root = \"tiny-imagenet-200/tiny-imagenet-200\"\n",
        "\n",
        "train_dataset = torchvision.datasets.ImageFolder(\n",
        "    os.path.join(dataset_root, \"train\"),\n",
        "    transform=transforms.Compose([\n",
        "        transforms.ToTensor(),\n",
        "        transforms.Normalize([0.4802, 0.4481, 0.3975], [0.2768, 0.2689, 0.2819])\n",
        "    ]))\n",
        "test_dataset = torchvision.datasets.ImageFolder(\n",
        "    os.path.join(dataset_root, \"test\"),\n",
        "    transform=transforms.Compose([\n",
        "        transforms.ToTensor(),\n",
        "        transforms.Normalize([0.4802, 0.4481, 0.3975], [0.2768, 0.2689, 0.2819])\n",
        "    ]))\n",
        "\n",
        "batch_size = 64\n",
        "\n",
        "loaderGGGTrain = torch.utils.data.DataLoader(\n",
        "    train_dataset,\n",
        "    batch_size=batch_size,\n",
        "    shuffle=True, \n",
        "    drop_last=True,\n",
        "    num_workers=1)\n",
        "\n",
        "iterator = iter(loaderGGGTrain)\n",
        "X, Y = iterator.next()\n",
        "\n",
        "loaderGGGTest = torch.utils.data.DataLoader(\n",
        "    test_dataset,\n",
        "    batch_size=batch_size,\n",
        "    shuffle=True, \n",
        "    drop_last=True,\n",
        "    num_workers=1)"
      ],
      "execution_count": null,
      "outputs": []
    },
    {
      "cell_type": "code",
      "metadata": {
        "id": "wW2LxMbPt9QT",
        "colab_type": "code",
        "colab": {
          "base_uri": "https://localhost:8080/",
          "height": 35
        },
        "outputId": "c09f888d-6a85-4eb5-a84a-33314538f7f5"
      },
      "source": [
        "batch_size = 500\n",
        "\n",
        "total_loader = torch.utils.data.DataLoader(\n",
        "    train_dataset,\n",
        "    batch_size=batch_size,\n",
        "    shuffle=False, # False чтобы не перемешать классы\n",
        "    drop_last=True,\n",
        "    num_workers=1)\n",
        "\n",
        "total_iter = iter(total_loader)\n",
        "\n",
        "# В цикле переберем все классы и создадим массив по 100 примеров каждого класса\n",
        "for i in tqdm(range(10)): # Первые 10 классов\n",
        "  n_images = 200\n",
        "  images, labels = total_iter.next()\n",
        "  x = images.numpy()\n",
        "  y = labels.numpy()\n",
        "  if i == 0:\n",
        "    dataTrainX = x[:n_images]\n",
        "    dataTrainY = y[:n_images]\n",
        "    dataTestX = x[n_images:n_images+100]\n",
        "    dataTestY = y[n_images:n_images+100]             \n",
        "    continue\n",
        "  dataTrainX = np.vstack((dataTrainX, x[:n_images]))\n",
        "  dataTrainY = np.hstack((dataTrainY, y[:n_images]))\n",
        "  dataTestX = np.vstack((dataTestX, x[n_images:n_images+100]))\n",
        "  dataTestY = np.hstack((dataTestY, y[n_images:n_images+100]))\n"
      ],
      "execution_count": null,
      "outputs": [
        {
          "output_type": "stream",
          "text": [
            "100%|██████████| 10/10 [00:02<00:00,  4.21it/s]\n"
          ],
          "name": "stderr"
        }
      ]
    },
    {
      "cell_type": "code",
      "metadata": {
        "id": "6HMqq9wAfmBI",
        "colab_type": "code",
        "colab": {
          "base_uri": "https://localhost:8080/",
          "height": 35
        },
        "outputId": "6ede51b2-8fb2-470b-c308-eb8897cd9d76"
      },
      "source": [
        "dataTestX.shape, dataTrainX.shape, dataTrainY.shape, dataTestY.shape"
      ],
      "execution_count": null,
      "outputs": [
        {
          "output_type": "execute_result",
          "data": {
            "text/plain": [
              "((1000, 3, 64, 64), (2000, 3, 64, 64), (2000,), (1000,))"
            ]
          },
          "metadata": {
            "tags": []
          },
          "execution_count": 6
        }
      ]
    },
    {
      "cell_type": "code",
      "metadata": {
        "id": "GdvYHIMtgoYc",
        "colab_type": "code",
        "colab": {}
      },
      "source": [
        "# Свой датасет\n",
        "class CustomDataset(torch.utils.data.Dataset):\n",
        "    def __init__(self, xdata, ydata):\n",
        "\n",
        "        self.target = ydata\n",
        "        self.images = xdata\n",
        "\n",
        "    def __len__(self):\n",
        "        return len(self.target)\n",
        "\n",
        "    def __getitem__(self, idx):\n",
        "        if torch.is_tensor(idx):\n",
        "            idx = idx.tolist()\n",
        "\n",
        "\n",
        "        image = self.images[idx]\n",
        "        target = self.target[idx]\n",
        "        sample = [image, target]\n",
        "        \n",
        "        return sample"
      ],
      "execution_count": null,
      "outputs": []
    },
    {
      "cell_type": "code",
      "metadata": {
        "id": "sH0FaXfsgoWN",
        "colab_type": "code",
        "colab": {}
      },
      "source": [
        "trainData = CustomDataset(dataTrainX, dataTrainY)\n",
        "testData = CustomDataset(dataTestX, dataTestY)"
      ],
      "execution_count": null,
      "outputs": []
    },
    {
      "cell_type": "code",
      "metadata": {
        "id": "GK_kRX67kcIR",
        "colab_type": "code",
        "colab": {}
      },
      "source": [
        "batch_size = 50\n",
        "\n",
        "train_loader = torch.utils.data.DataLoader(\n",
        "    trainData,\n",
        "    batch_size=batch_size,\n",
        "    shuffle=True,\n",
        "    drop_last=True,\n",
        "    num_workers=1)\n",
        "\n",
        "test_loader = torch.utils.data.DataLoader(\n",
        "    testData,\n",
        "    batch_size=batch_size,\n",
        "    shuffle=True,\n",
        "    drop_last=True,\n",
        "    num_workers=1)\n",
        "\n",
        "train_iter = iter(train_loader)\n",
        "test_iter = iter(test_loader)"
      ],
      "execution_count": null,
      "outputs": []
    },
    {
      "cell_type": "code",
      "metadata": {
        "id": "gDFvXyo0kcF2",
        "colab_type": "code",
        "colab": {}
      },
      "source": [
        "x_train, y_train = train_iter.next()\n",
        "x_test, y_test = test_iter.next()"
      ],
      "execution_count": null,
      "outputs": []
    },
    {
      "cell_type": "code",
      "metadata": {
        "id": "tJ28Bf3o1XOS",
        "colab_type": "code",
        "colab": {
          "base_uri": "https://localhost:8080/",
          "height": 88
        },
        "outputId": "6b550885-7a58-41fa-d09b-eccc49068d19"
      },
      "source": [
        "x_train.shape, x_test.shape, y_train.shape, y_test.shape"
      ],
      "execution_count": null,
      "outputs": [
        {
          "output_type": "execute_result",
          "data": {
            "text/plain": [
              "(torch.Size([50, 3, 64, 64]),\n",
              " torch.Size([50, 3, 64, 64]),\n",
              " torch.Size([50]),\n",
              " torch.Size([50]))"
            ]
          },
          "metadata": {
            "tags": []
          },
          "execution_count": 11
        }
      ]
    },
    {
      "cell_type": "code",
      "metadata": {
        "id": "v7e0F_4NbLGW",
        "colab_type": "code",
        "colab": {}
      },
      "source": [
        "# dataset_root = \"tiny-imagenet-200/tiny-imagenet-200\"\n",
        "\n",
        "# train_dataset = torchvision.datasets.ImageFolder(\n",
        "#     os.path.join(dataset_root, \"train\"),\n",
        "#     transform=transforms.Compose([\n",
        "#         transforms.ToTensor(),\n",
        "#         transforms.Normalize([0.4802, 0.4481, 0.3975], [0.2768, 0.2689, 0.2819])\n",
        "#     ]))\n",
        "\n",
        "# val_dataset = torchvision.datasets.ImageFolder(\n",
        "#     os.path.join(dataset_root, \"val\"),\n",
        "#     transform=transforms.Compose([\n",
        "#         transforms.ToTensor(),\n",
        "#         transforms.Normalize([0.4802, 0.4481, 0.3975], [0.2768, 0.2689, 0.2819])\n",
        "#     ]))\n",
        "\n",
        "# batch_size = 30\n",
        "# train_loader = torch.utils.data.DataLoader(\n",
        "#     train_dataset,\n",
        "#     batch_size=batch_size,\n",
        "#     shuffle=True,\n",
        "#     drop_last=True,\n",
        "#     num_workers=1)\n",
        "# val_loader = torch.utils.data.DataLoader(\n",
        "#     val_dataset,\n",
        "#     batch_size=batch_size,\n",
        "#     shuffle=False,\n",
        "#     num_workers=1)"
      ],
      "execution_count": null,
      "outputs": []
    },
    {
      "cell_type": "code",
      "metadata": {
        "id": "uZjvHVbvPxBn",
        "colab_type": "code",
        "colab": {}
      },
      "source": [
        "# train_iter = iter(train_loader)\n",
        "# images, labels = train_iter.next()"
      ],
      "execution_count": null,
      "outputs": []
    },
    {
      "cell_type": "code",
      "metadata": {
        "id": "FRFMckm2TYne",
        "colab_type": "code",
        "colab": {}
      },
      "source": [
        "# plt.imshow(images[0].numpy().transpose(1,2,0))"
      ],
      "execution_count": null,
      "outputs": []
    },
    {
      "cell_type": "code",
      "metadata": {
        "id": "ERY54paDST2F",
        "colab_type": "code",
        "colab": {}
      },
      "source": [
        "# make grid takes tensor as arg\n",
        "# tensor : (batchsize, channels, height, width)\n",
        "# grid = torchvision.utils.make_grid(images, pad_value=2)\n",
        "\n",
        "# plt.imshow(grid.numpy().transpose((1, 2, 0)))\n",
        "# plt.axis('off')\n",
        "# plt.title(labels.numpy());"
      ],
      "execution_count": null,
      "outputs": []
    },
    {
      "cell_type": "code",
      "metadata": {
        "id": "tKSY5N-o_XWc",
        "colab_type": "code",
        "colab": {
          "base_uri": "https://localhost:8080/",
          "height": 35
        },
        "outputId": "55a42aea-8d86-4f48-bae7-cc4131018834"
      },
      "source": [
        "torch.cuda.is_available()"
      ],
      "execution_count": null,
      "outputs": [
        {
          "output_type": "execute_result",
          "data": {
            "text/plain": [
              "True"
            ]
          },
          "metadata": {
            "tags": []
          },
          "execution_count": 17
        }
      ]
    },
    {
      "cell_type": "code",
      "metadata": {
        "id": "p7UrVYvr_cga",
        "colab_type": "code",
        "colab": {}
      },
      "source": [
        "device = torch.device(\"cuda\" if torch.cuda.is_available() else \"cpu\")"
      ],
      "execution_count": null,
      "outputs": []
    },
    {
      "cell_type": "code",
      "metadata": {
        "id": "e-CTfyuJ1VUD",
        "colab_type": "code",
        "colab": {}
      },
      "source": [
        "class Model(nn.Module):\n",
        "  def __init__(self):\n",
        "    super(Model, self).__init__()\n",
        "    self.conv1 = nn.Conv2d(3, 6, (3,3), stride=2)\n",
        "    self.conv2 = nn.Conv2d(6, 12, (3,3), stride=1)\n",
        "    self.maxpool1 = nn.MaxPool2d((3,3))\n",
        "\n",
        "    self.conv3 = nn.Conv2d(12, 24, (3,3), stride=1)\n",
        "    self.conv4 = nn.Conv2d(24, 48, (3,3), stride=1)\n",
        "    self.conv5 = nn.Conv2d(48, 96, (3,3), stride=1)\n",
        "\n",
        "    self.fc1 = nn.Linear(864, 200) # НЕ ЗАБЫВАТЬ МЕНЯТЬ ЧИСЛО КЛАССОВ\n",
        "  \n",
        "  def forward(self, x):\n",
        "    x = F.relu(self.conv1(x))\n",
        "    x = F.relu(self.conv2(x))\n",
        "    x = self.maxpool1(x)\n",
        "\n",
        "    x = F.relu(self.conv3(x))\n",
        "    x = F.relu(self.conv4(x))\n",
        "    x = F.relu(self.conv5(x))\n",
        "\n",
        "    x = x.view(x.size(0), -1)\n",
        "    x = self.fc1(x)\n",
        "    return x"
      ],
      "execution_count": null,
      "outputs": []
    },
    {
      "cell_type": "code",
      "metadata": {
        "id": "5XyOvojKn0QF",
        "colab_type": "code",
        "colab": {}
      },
      "source": [
        "class Model2(nn.Module):\n",
        "  def __init__(self):\n",
        "    super(Model2, self).__init__()\n",
        "    self.conv1 = nn.Conv2d(3, 6, (3,3), stride=2)\n",
        "    self.bn1 = nn.BatchNorm2d(6)\n",
        "    self.conv2 = nn.Conv2d(6, 12, (3,3), stride=1)\n",
        "    self.bn2 = nn.BatchNorm2d(12)\n",
        "    self.maxpool1 = nn.MaxPool2d((3,3))\n",
        "\n",
        "    self.conv3 = nn.Conv2d(12, 24, (3,3), stride=1)\n",
        "    self.bn3 = nn.BatchNorm2d(24)\n",
        "    self.conv4 = nn.Conv2d(24, 48, (3,3), stride=1)\n",
        "    self.bn4 = nn.BatchNorm2d(48)\n",
        "    self.conv5 = nn.Conv2d(48, 96, (3,3), stride=1)\n",
        "    self.bn5 = nn.BatchNorm2d(96)\n",
        "    self.fc1 = nn.Linear(864, 200) \n",
        "  \n",
        "  def forward(self, x):\n",
        "    x = self.bn1(self.conv1(x))\n",
        "    x = F.relu(x)\n",
        "    x = self.bn2(self.conv2(x))\n",
        "    x = F.relu(x)    \n",
        "    x = self.maxpool1(x)\n",
        "\n",
        "    x = self.bn3(self.conv3(x))\n",
        "    x = F.relu(x)    \n",
        "    x = self.bn4(self.conv4(x))\n",
        "    x = F.relu(x)\n",
        "    x = self.bn5(self.conv5(x))\n",
        "    x = F.relu(x)\n",
        "\n",
        "    x = x.view(x.size(0), -1)\n",
        "    x = self.fc1(x)\n",
        "    return x"
      ],
      "execution_count": null,
      "outputs": []
    },
    {
      "cell_type": "code",
      "metadata": {
        "id": "ORzacxzm8y9y",
        "colab_type": "code",
        "colab": {}
      },
      "source": [
        "# model = Model()\n",
        "# model.forward(x_train).shape"
      ],
      "execution_count": null,
      "outputs": []
    },
    {
      "cell_type": "code",
      "metadata": {
        "id": "lmWrMFKhkUJt",
        "colab_type": "code",
        "colab": {
          "base_uri": "https://localhost:8080/",
          "height": 35
        },
        "outputId": "0d8bfde0-1dc9-49b8-f017-b1217b1a3cf1"
      },
      "source": [
        "model = Model2()\n",
        "model(X).shape"
      ],
      "execution_count": null,
      "outputs": [
        {
          "output_type": "execute_result",
          "data": {
            "text/plain": [
              "torch.Size([64, 200])"
            ]
          },
          "metadata": {
            "tags": []
          },
          "execution_count": 55
        }
      ]
    },
    {
      "cell_type": "code",
      "metadata": {
        "id": "Z070w1Mz7eKW",
        "colab_type": "code",
        "colab": {}
      },
      "source": [
        "model = Model()\n",
        "criterion = F.cross_entropy\n",
        "optimizer = torch.optim.Adam(model.parameters())"
      ],
      "execution_count": null,
      "outputs": []
    },
    {
      "cell_type": "code",
      "metadata": {
        "id": "Q1PNhUnbBRuD",
        "colab_type": "code",
        "colab": {}
      },
      "source": [
        "# Обучение и валидация\n",
        "\n",
        "def training_step(batch, model, device=torch.device('cpu')):\n",
        "  data, target = batch\n",
        "  data = data.to(device)\n",
        "  target = target.to(device)\n",
        "  model.to(device)\n",
        "\n",
        "  model.train(mode=True)\n",
        "\n",
        "  output = model(data)\n",
        "  loss = F.cross_entropy(output, target)\n",
        "\n",
        "  return loss\n",
        "\n",
        "def train_one_epoch(model, loader, optimizer, device=torch.device('cpu')):\n",
        "  logs = np.array([])\n",
        "  for batch in tqdm(loader):\n",
        "    loss_batch = training_step(batch, model, device)\n",
        "    optimizer.zero_grad()\n",
        "    loss_batch.backward()\n",
        "    optimizer.step()\n",
        "    logs = np.append(logs, loss_batch.item())\n",
        "    \n",
        "  return logs.mean()\n",
        "\n",
        "def validation_step(batch, model, device=torch.device('cpu')):\n",
        "    \n",
        "    # закидываем данные и модель на один и тот же device\n",
        "    data, target = batch\n",
        "    data = data.to(device)\n",
        "    target = target.to(device)\n",
        "    model.to(device)\n",
        "    \n",
        "    # включаем eval mode (обязательно например при наличии dropout, batch_norm и т.д.)\n",
        "    model.train(mode=False)\n",
        "    \n",
        "    with torch.no_grad():\n",
        "      output = model(data)\n",
        "    #output = model(data)\n",
        "    loss = F.cross_entropy(output, target)\n",
        "\n",
        "    return loss\n",
        "\n",
        "def val_one_epoch(model, loader, device=torch.device('cpu')):\n",
        "    logs = np.array([])\n",
        "    for batch in tqdm(loader):\n",
        "        val_loss = validation_step(batch, model, device)\n",
        "        logs = np.append(logs, val_loss.item())\n",
        "    return logs.mean()\n"
      ],
      "execution_count": null,
      "outputs": []
    },
    {
      "cell_type": "code",
      "metadata": {
        "id": "UNfbWl__G2Lq",
        "colab_type": "code",
        "colab": {}
      },
      "source": [
        "# top N accuracy\n",
        "\n",
        "def topN_epoch(model, loader, device, n):\n",
        "    logs = np.array([])\n",
        "    for batch in tqdm(loader):\n",
        "        acc = topN_step(batch, model, device, n)\n",
        "        logs = np.append(logs, acc)\n",
        "    return logs.mean()\n",
        "\n",
        "def topN_step(batch, model, device, n):\n",
        "    \n",
        "    data, target = batch\n",
        "    data = data.to(device)\n",
        "    target = target.to(device)\n",
        "    model.to(device)\n",
        "    \n",
        "    model.train(mode=False)\n",
        "    \n",
        "    output = model(data)\n",
        "    acc = compute_acc(output, target, n)\n",
        "\n",
        "    return acc\n",
        "\n",
        "def compute_acc(output, target, N):\n",
        "  predict = np.array([])\n",
        "\n",
        "  for ii in output:\n",
        "      ans = np.array([])\n",
        "      ii =  ii.cpu().detach().numpy()\n",
        "      for n in range(N):\n",
        "        idx = ii.argmax()\n",
        "        np.put(ii,idx, -1000)\n",
        "        ans = np.append(ans, idx)\n",
        "      predict = np.append(predict, ans)\n",
        "  predict = np.array(np.split(predict, output.shape[0]))\n",
        "  accuracy = np.array([])\n",
        "  for y,x in zip(target, predict):\n",
        "    if y.item() in x:\n",
        "      accuracy = np.append(accuracy, 1)\n",
        "    else:\n",
        "      accuracy = np.append(accuracy, 0)\n",
        "  return accuracy.mean()\n"
      ],
      "execution_count": null,
      "outputs": []
    },
    {
      "cell_type": "code",
      "metadata": {
        "id": "L3ssGDZoEu_f",
        "colab_type": "code",
        "colab": {
          "base_uri": "https://localhost:8080/",
          "height": 444
        },
        "outputId": "168c2c8e-c663-42d9-c7ee-cb7f24a56e93"
      },
      "source": [
        "doc = np.array([])\n",
        "docval = np.array([])\n",
        "early_stopping_rate = 1000\n",
        "count = 0\n",
        "for i in range(30):\n",
        "  docs = train_one_epoch(model, loaderGGGTrain, optimizer, device) # loader\n",
        "  docs_ = val_one_epoch(model, loaderGGGTest, device)\n",
        "  doc = np.append(doc, docs)\n",
        "  docval = np.append(docval, docs_)\n",
        "  print(\"\\n\\tEpoch #%s\" %i)\n",
        "  print(\"\\ttrain_loss =%.3f\" %doc[-1], \"val_loss =%.3f\" %docval[-1], '\\n')\n",
        "  \n",
        "  # Ранняя остановка\n",
        "  if docval[-1] < early_stopping_rate:\n",
        "    early_stopping_rate = docval[-1]\n",
        "    count = 0\n",
        "  else:\n",
        "    count += 1\n",
        "    if count == 3:\n",
        "      break\n"
      ],
      "execution_count": null,
      "outputs": [
        {
          "output_type": "stream",
          "text": [
            "100%|██████████| 1562/1562 [00:51<00:00, 30.57it/s]\n",
            "100%|██████████| 156/156 [00:04<00:00, 31.34it/s]\n",
            "  0%|          | 0/1562 [00:00<?, ?it/s]"
          ],
          "name": "stderr"
        },
        {
          "output_type": "stream",
          "text": [
            "\n",
            "\tEpoch #0\n",
            "\ttrain_loss =3.764 val_loss =8.641 \n",
            "\n"
          ],
          "name": "stdout"
        },
        {
          "output_type": "stream",
          "text": [
            "100%|██████████| 1562/1562 [00:51<00:00, 30.08it/s]\n",
            "100%|██████████| 156/156 [00:05<00:00, 31.11it/s]\n",
            "  0%|          | 0/1562 [00:00<?, ?it/s]"
          ],
          "name": "stderr"
        },
        {
          "output_type": "stream",
          "text": [
            "\n",
            "\tEpoch #1\n",
            "\ttrain_loss =3.743 val_loss =9.471 \n",
            "\n"
          ],
          "name": "stdout"
        },
        {
          "output_type": "stream",
          "text": [
            "100%|██████████| 1562/1562 [00:52<00:00, 29.84it/s]\n",
            "100%|██████████| 156/156 [00:05<00:00, 31.13it/s]\n",
            "  0%|          | 0/1562 [00:00<?, ?it/s]"
          ],
          "name": "stderr"
        },
        {
          "output_type": "stream",
          "text": [
            "\n",
            "\tEpoch #2\n",
            "\ttrain_loss =3.723 val_loss =9.925 \n",
            "\n"
          ],
          "name": "stdout"
        },
        {
          "output_type": "stream",
          "text": [
            "100%|██████████| 1562/1562 [00:52<00:00, 29.87it/s]\n",
            "100%|██████████| 156/156 [00:05<00:00, 30.49it/s]"
          ],
          "name": "stderr"
        },
        {
          "output_type": "stream",
          "text": [
            "\n",
            "\tEpoch #3\n",
            "\ttrain_loss =3.704 val_loss =9.538 \n",
            "\n"
          ],
          "name": "stdout"
        },
        {
          "output_type": "stream",
          "text": [
            "\n"
          ],
          "name": "stderr"
        }
      ]
    },
    {
      "cell_type": "code",
      "metadata": {
        "id": "fnChofEtp0tq",
        "colab_type": "code",
        "colab": {}
      },
      "source": [
        " TOP1 accuracy = 0.252\n",
        "100%|██████████| 20/20 [00:00<00:00, 74.11it/s]\n",
        " TOP5 accuracy = 0.497\n",
        "\n",
        "  TOP1 accuracy = 0.290\n",
        "100%|██████████| 20/20 [00:00<00:00, 73.24it/s]\n",
        " TOP5 accuracy = 0.526"
      ],
      "execution_count": null,
      "outputs": []
    },
    {
      "cell_type": "code",
      "metadata": {
        "id": "-Kbr5SH0fPwS",
        "colab_type": "code",
        "colab": {
          "base_uri": "https://localhost:8080/",
          "height": 124
        },
        "outputId": "dea410bc-9a0f-4ae3-d0c0-430d6128592f"
      },
      "source": [
        "print('\\n', 'TOP1 accuracy = %.3f' % topN_epoch(model, test_loader, device, n=1))\n",
        "print('\\n', 'TOP5 accuracy = %.3f' % topN_epoch(model, test_loader, device, n=5))"
      ],
      "execution_count": null,
      "outputs": [
        {
          "output_type": "stream",
          "text": [
            "100%|██████████| 20/20 [00:00<00:00, 80.31it/s]\n",
            "  0%|          | 0/20 [00:00<?, ?it/s]"
          ],
          "name": "stderr"
        },
        {
          "output_type": "stream",
          "text": [
            "\n",
            " TOP1 accuracy = 0.241\n"
          ],
          "name": "stdout"
        },
        {
          "output_type": "stream",
          "text": [
            "100%|██████████| 20/20 [00:00<00:00, 67.40it/s]"
          ],
          "name": "stderr"
        },
        {
          "output_type": "stream",
          "text": [
            "\n",
            " TOP5 accuracy = 0.460\n"
          ],
          "name": "stdout"
        },
        {
          "output_type": "stream",
          "text": [
            "\n"
          ],
          "name": "stderr"
        }
      ]
    },
    {
      "cell_type": "code",
      "metadata": {
        "id": "EUULkO_ErrTO",
        "colab_type": "code",
        "colab": {}
      },
      "source": [
        "#torch.save(model.state_dict(), r'./model.pt')"
      ],
      "execution_count": null,
      "outputs": []
    },
    {
      "cell_type": "code",
      "metadata": {
        "id": "z_eadHxqs83q",
        "colab_type": "code",
        "colab": {
          "base_uri": "https://localhost:8080/",
          "height": 718
        },
        "outputId": "63b3789d-65f5-4d77-81a1-6ee59352ef44"
      },
      "source": [
        "# Learning curve\n",
        "plt.plot(doc, '*-', label='train')\n",
        "plt.plot(docval, label='val')\n",
        "plt.legend()"
      ],
      "execution_count": null,
      "outputs": [
        {
          "output_type": "execute_result",
          "data": {
            "text/plain": [
              "<matplotlib.legend.Legend at 0x7f16860c8550>"
            ]
          },
          "metadata": {
            "tags": []
          },
          "execution_count": 51
        },
        {
          "output_type": "display_data",
          "data": {
            "image/png": "[encoded data removed]",
            "text/plain": [
              "<Figure size 1080x864 with 1 Axes>"
            ]
          },
          "metadata": {
            "tags": [],
            "needs_background": "light"
          }
        }
      ]
    },
    {
      "cell_type": "code",
      "metadata": {
        "id": "jOMDs6vVLDGy",
        "colab_type": "code",
        "colab": {
          "base_uri": "https://localhost:8080/",
          "height": 35
        },
        "outputId": "2ee0da6a-0eee-48d7-b0f3-3833fb8e47cb"
      },
      "source": [
        "# ЧИСЛО ПАРАМЕТРОВ МОДЕЛИ \n",
        "sum(p.numel() for p in model.parameters() if p.requires_grad)"
      ],
      "execution_count": null,
      "outputs": [
        {
          "output_type": "execute_result",
          "data": {
            "text/plain": [
              "228428"
            ]
          },
          "metadata": {
            "tags": []
          },
          "execution_count": 65
        }
      ]
    },
    {
      "cell_type": "markdown",
      "metadata": {
        "id": "BYvwbfs1bLGk",
        "colab_type": "text"
      },
      "source": [
        "### Отчет\n",
        "\n",
        "Кратако укажите, что вы попробывали, что получилось и дало прирост, а что нет\n",
        "\n",
        "Сколько параметров у модели?\n",
        "\n",
        "Как быстро она предсказывает класс для 1й картинки?\n",
        "\n",
        "Oпцианально: выведите top-1, top-5 точность вашей модели\n",
        "\n",
        "Опцианально: выведите картинки, на которых ваша модель сильнее всего ошибается (вероятность класса, соответствующая таргету, минимальная)"
      ]
    },
    {
      "cell_type": "code",
      "metadata": {
        "id": "EfTeSmz8FjAk",
        "colab_type": "code",
        "colab": {}
      },
      "source": [
        "модель 1\n",
        "TOP1 accuracy = 0.252\n",
        "TOP5 accuracy = 0.497\n",
        "\n",
        "модель 2\n",
        "TOP1 accuracy = 0.290\n",
        "TOP5 accuracy = 0.526"
      ],
      "execution_count": null,
      "outputs": []
    },
    {
      "cell_type": "markdown",
      "metadata": {
        "id": "wIkdV4tGbLGe",
        "colab_type": "text"
      },
      "source": [
        "Когда закончите обучение, сделайте отдельно инференс на валидации и выведите ниже результат."
      ]
    },
    {
      "cell_type": "code",
      "metadata": {
        "id": "Gu8N3sGcAYz3",
        "colab_type": "code",
        "colab": {}
      },
      "source": [
        ""
      ],
      "execution_count": null,
      "outputs": []
    },
    {
      "cell_type": "code",
      "metadata": {
        "id": "4ogVmpLYAY22",
        "colab_type": "code",
        "colab": {}
      },
      "source": [
        ""
      ],
      "execution_count": null,
      "outputs": []
    },
    {
      "cell_type": "code",
      "metadata": {
        "id": "rvGnJ_j9AY5-",
        "colab_type": "code",
        "colab": {}
      },
      "source": [
        ""
      ],
      "execution_count": null,
      "outputs": []
    },
    {
      "cell_type": "code",
      "metadata": {
        "id": "GTuJiiYFAY9T",
        "colab_type": "code",
        "colab": {}
      },
      "source": [
        ""
      ],
      "execution_count": null,
      "outputs": []
    },
    {
      "cell_type": "markdown",
      "metadata": {
        "id": "Dx9oML68bLGl",
        "colab_type": "text"
      },
      "source": [
        "# Задача 2 - Transfer Learning (1 балл)\n",
        "\n",
        "Выберите любую предобученную модель. Сделайте transfer learning для датасета из задачи 1. Постарайтесь по-максимуму воспользоваться кодом из задачи 1, чтобы не дублировать его. Выведите точность на валидации."
      ]
    },
    {
      "cell_type": "code",
      "metadata": {
        "id": "1244jaC5bLGm",
        "colab_type": "code",
        "colab": {
          "base_uri": "https://localhost:8080/",
          "height": 497
        },
        "outputId": "c34aa549-5788-44b6-bf0b-d7bea8f65d9e"
      },
      "source": [
        ""
      ],
      "execution_count": null,
      "outputs": [
        {
          "output_type": "stream",
          "text": [
            "Help on package torchvision.models in torchvision:\n",
            "\n",
            "NAME\n",
            "    torchvision.models\n",
            "\n",
            "PACKAGE CONTENTS\n",
            "    _utils\n",
            "    alexnet\n",
            "    densenet\n",
            "    detection (package)\n",
            "    googlenet\n",
            "    inception\n",
            "    mnasnet\n",
            "    mobilenet\n",
            "    quantization (package)\n",
            "    resnet\n",
            "    segmentation (package)\n",
            "    shufflenetv2\n",
            "    squeezenet\n",
            "    utils\n",
            "    vgg\n",
            "    video (package)\n",
            "\n",
            "FILE\n",
            "    /usr/local/lib/python3.6/dist-packages/torchvision/models/__init__.py\n",
            "\n",
            "\n"
          ],
          "name": "stdout"
        }
      ]
    },
    {
      "cell_type": "code",
      "metadata": {
        "id": "tz0Jg3ZyzOu3",
        "colab_type": "code",
        "colab": {}
      },
      "source": [
        "resnet50 = torchvision.models.resnet50(pretrained=True)"
      ],
      "execution_count": null,
      "outputs": []
    },
    {
      "cell_type": "code",
      "metadata": {
        "id": "tNAH5bW1zdYP",
        "colab_type": "code",
        "colab": {
          "base_uri": "https://localhost:8080/",
          "height": 1000
        },
        "outputId": "2aaf8c2c-cfbb-41e9-c276-e6818bc2b1d8"
      },
      "source": [
        "resnet50"
      ],
      "execution_count": null,
      "outputs": [
        {
          "output_type": "execute_result",
          "data": {
            "text/plain": [
              "ResNet(\n",
              "  (conv1): Conv2d(3, 64, kernel_size=(7, 7), stride=(2, 2), padding=(3, 3), bias=False)\n",
              "  (bn1): BatchNorm2d(64, eps=1e-05, momentum=0.1, affine=True, track_running_stats=True)\n",
              "  (relu): ReLU(inplace=True)\n",
              "  (maxpool): MaxPool2d(kernel_size=3, stride=2, padding=1, dilation=1, ceil_mode=False)\n",
              "  (layer1): Sequential(\n",
              "    (0): Bottleneck(\n",
              "      (conv1): Conv2d(64, 64, kernel_size=(1, 1), stride=(1, 1), bias=False)\n",
              "      (bn1): BatchNorm2d(64, eps=1e-05, momentum=0.1, affine=True, track_running_stats=True)\n",
              "      (conv2): Conv2d(64, 64, kernel_size=(3, 3), stride=(1, 1), padding=(1, 1), bias=False)\n",
              "      (bn2): BatchNorm2d(64, eps=1e-05, momentum=0.1, affine=True, track_running_stats=True)\n",
              "      (conv3): Conv2d(64, 256, kernel_size=(1, 1), stride=(1, 1), bias=False)\n",
              "      (bn3): BatchNorm2d(256, eps=1e-05, momentum=0.1, affine=True, track_running_stats=True)\n",
              "      (relu): ReLU(inplace=True)\n",
              "      (downsample): Sequential(\n",
              "        (0): Conv2d(64, 256, kernel_size=(1, 1), stride=(1, 1), bias=False)\n",
              "        (1): BatchNorm2d(256, eps=1e-05, momentum=0.1, affine=True, track_running_stats=True)\n",
              "      )\n",
              "    )\n",
              "    (1): Bottleneck(\n",
              "      (conv1): Conv2d(256, 64, kernel_size=(1, 1), stride=(1, 1), bias=False)\n",
              "      (bn1): BatchNorm2d(64, eps=1e-05, momentum=0.1, affine=True, track_running_stats=True)\n",
              "      (conv2): Conv2d(64, 64, kernel_size=(3, 3), stride=(1, 1), padding=(1, 1), bias=False)\n",
              "      (bn2): BatchNorm2d(64, eps=1e-05, momentum=0.1, affine=True, track_running_stats=True)\n",
              "      (conv3): Conv2d(64, 256, kernel_size=(1, 1), stride=(1, 1), bias=False)\n",
              "      (bn3): BatchNorm2d(256, eps=1e-05, momentum=0.1, affine=True, track_running_stats=True)\n",
              "      (relu): ReLU(inplace=True)\n",
              "    )\n",
              "    (2): Bottleneck(\n",
              "      (conv1): Conv2d(256, 64, kernel_size=(1, 1), stride=(1, 1), bias=False)\n",
              "      (bn1): BatchNorm2d(64, eps=1e-05, momentum=0.1, affine=True, track_running_stats=True)\n",
              "      (conv2): Conv2d(64, 64, kernel_size=(3, 3), stride=(1, 1), padding=(1, 1), bias=False)\n",
              "      (bn2): BatchNorm2d(64, eps=1e-05, momentum=0.1, affine=True, track_running_stats=True)\n",
              "      (conv3): Conv2d(64, 256, kernel_size=(1, 1), stride=(1, 1), bias=False)\n",
              "      (bn3): BatchNorm2d(256, eps=1e-05, momentum=0.1, affine=True, track_running_stats=True)\n",
              "      (relu): ReLU(inplace=True)\n",
              "    )\n",
              "  )\n",
              "  (layer2): Sequential(\n",
              "    (0): Bottleneck(\n",
              "      (conv1): Conv2d(256, 128, kernel_size=(1, 1), stride=(1, 1), bias=False)\n",
              "      (bn1): BatchNorm2d(128, eps=1e-05, momentum=0.1, affine=True, track_running_stats=True)\n",
              "      (conv2): Conv2d(128, 128, kernel_size=(3, 3), stride=(2, 2), padding=(1, 1), bias=False)\n",
              "      (bn2): BatchNorm2d(128, eps=1e-05, momentum=0.1, affine=True, track_running_stats=True)\n",
              "      (conv3): Conv2d(128, 512, kernel_size=(1, 1), stride=(1, 1), bias=False)\n",
              "      (bn3): BatchNorm2d(512, eps=1e-05, momentum=0.1, affine=True, track_running_stats=True)\n",
              "      (relu): ReLU(inplace=True)\n",
              "      (downsample): Sequential(\n",
              "        (0): Conv2d(256, 512, kernel_size=(1, 1), stride=(2, 2), bias=False)\n",
              "        (1): BatchNorm2d(512, eps=1e-05, momentum=0.1, affine=True, track_running_stats=True)\n",
              "      )\n",
              "    )\n",
              "    (1): Bottleneck(\n",
              "      (conv1): Conv2d(512, 128, kernel_size=(1, 1), stride=(1, 1), bias=False)\n",
              "      (bn1): BatchNorm2d(128, eps=1e-05, momentum=0.1, affine=True, track_running_stats=True)\n",
              "      (conv2): Conv2d(128, 128, kernel_size=(3, 3), stride=(1, 1), padding=(1, 1), bias=False)\n",
              "      (bn2): BatchNorm2d(128, eps=1e-05, momentum=0.1, affine=True, track_running_stats=True)\n",
              "      (conv3): Conv2d(128, 512, kernel_size=(1, 1), stride=(1, 1), bias=False)\n",
              "      (bn3): BatchNorm2d(512, eps=1e-05, momentum=0.1, affine=True, track_running_stats=True)\n",
              "      (relu): ReLU(inplace=True)\n",
              "    )\n",
              "    (2): Bottleneck(\n",
              "      (conv1): Conv2d(512, 128, kernel_size=(1, 1), stride=(1, 1), bias=False)\n",
              "      (bn1): BatchNorm2d(128, eps=1e-05, momentum=0.1, affine=True, track_running_stats=True)\n",
              "      (conv2): Conv2d(128, 128, kernel_size=(3, 3), stride=(1, 1), padding=(1, 1), bias=False)\n",
              "      (bn2): BatchNorm2d(128, eps=1e-05, momentum=0.1, affine=True, track_running_stats=True)\n",
              "      (conv3): Conv2d(128, 512, kernel_size=(1, 1), stride=(1, 1), bias=False)\n",
              "      (bn3): BatchNorm2d(512, eps=1e-05, momentum=0.1, affine=True, track_running_stats=True)\n",
              "      (relu): ReLU(inplace=True)\n",
              "    )\n",
              "    (3): Bottleneck(\n",
              "      (conv1): Conv2d(512, 128, kernel_size=(1, 1), stride=(1, 1), bias=False)\n",
              "      (bn1): BatchNorm2d(128, eps=1e-05, momentum=0.1, affine=True, track_running_stats=True)\n",
              "      (conv2): Conv2d(128, 128, kernel_size=(3, 3), stride=(1, 1), padding=(1, 1), bias=False)\n",
              "      (bn2): BatchNorm2d(128, eps=1e-05, momentum=0.1, affine=True, track_running_stats=True)\n",
              "      (conv3): Conv2d(128, 512, kernel_size=(1, 1), stride=(1, 1), bias=False)\n",
              "      (bn3): BatchNorm2d(512, eps=1e-05, momentum=0.1, affine=True, track_running_stats=True)\n",
              "      (relu): ReLU(inplace=True)\n",
              "    )\n",
              "  )\n",
              "  (layer3): Sequential(\n",
              "    (0): Bottleneck(\n",
              "      (conv1): Conv2d(512, 256, kernel_size=(1, 1), stride=(1, 1), bias=False)\n",
              "      (bn1): BatchNorm2d(256, eps=1e-05, momentum=0.1, affine=True, track_running_stats=True)\n",
              "      (conv2): Conv2d(256, 256, kernel_size=(3, 3), stride=(2, 2), padding=(1, 1), bias=False)\n",
              "      (bn2): BatchNorm2d(256, eps=1e-05, momentum=0.1, affine=True, track_running_stats=True)\n",
              "      (conv3): Conv2d(256, 1024, kernel_size=(1, 1), stride=(1, 1), bias=False)\n",
              "      (bn3): BatchNorm2d(1024, eps=1e-05, momentum=0.1, affine=True, track_running_stats=True)\n",
              "      (relu): ReLU(inplace=True)\n",
              "      (downsample): Sequential(\n",
              "        (0): Conv2d(512, 1024, kernel_size=(1, 1), stride=(2, 2), bias=False)\n",
              "        (1): BatchNorm2d(1024, eps=1e-05, momentum=0.1, affine=True, track_running_stats=True)\n",
              "      )\n",
              "    )\n",
              "    (1): Bottleneck(\n",
              "      (conv1): Conv2d(1024, 256, kernel_size=(1, 1), stride=(1, 1), bias=False)\n",
              "      (bn1): BatchNorm2d(256, eps=1e-05, momentum=0.1, affine=True, track_running_stats=True)\n",
              "      (conv2): Conv2d(256, 256, kernel_size=(3, 3), stride=(1, 1), padding=(1, 1), bias=False)\n",
              "      (bn2): BatchNorm2d(256, eps=1e-05, momentum=0.1, affine=True, track_running_stats=True)\n",
              "      (conv3): Conv2d(256, 1024, kernel_size=(1, 1), stride=(1, 1), bias=False)\n",
              "      (bn3): BatchNorm2d(1024, eps=1e-05, momentum=0.1, affine=True, track_running_stats=True)\n",
              "      (relu): ReLU(inplace=True)\n",
              "    )\n",
              "    (2): Bottleneck(\n",
              "      (conv1): Conv2d(1024, 256, kernel_size=(1, 1), stride=(1, 1), bias=False)\n",
              "      (bn1): BatchNorm2d(256, eps=1e-05, momentum=0.1, affine=True, track_running_stats=True)\n",
              "      (conv2): Conv2d(256, 256, kernel_size=(3, 3), stride=(1, 1), padding=(1, 1), bias=False)\n",
              "      (bn2): BatchNorm2d(256, eps=1e-05, momentum=0.1, affine=True, track_running_stats=True)\n",
              "      (conv3): Conv2d(256, 1024, kernel_size=(1, 1), stride=(1, 1), bias=False)\n",
              "      (bn3): BatchNorm2d(1024, eps=1e-05, momentum=0.1, affine=True, track_running_stats=True)\n",
              "      (relu): ReLU(inplace=True)\n",
              "    )\n",
              "    (3): Bottleneck(\n",
              "      (conv1): Conv2d(1024, 256, kernel_size=(1, 1), stride=(1, 1), bias=False)\n",
              "      (bn1): BatchNorm2d(256, eps=1e-05, momentum=0.1, affine=True, track_running_stats=True)\n",
              "      (conv2): Conv2d(256, 256, kernel_size=(3, 3), stride=(1, 1), padding=(1, 1), bias=False)\n",
              "      (bn2): BatchNorm2d(256, eps=1e-05, momentum=0.1, affine=True, track_running_stats=True)\n",
              "      (conv3): Conv2d(256, 1024, kernel_size=(1, 1), stride=(1, 1), bias=False)\n",
              "      (bn3): BatchNorm2d(1024, eps=1e-05, momentum=0.1, affine=True, track_running_stats=True)\n",
              "      (relu): ReLU(inplace=True)\n",
              "    )\n",
              "    (4): Bottleneck(\n",
              "      (conv1): Conv2d(1024, 256, kernel_size=(1, 1), stride=(1, 1), bias=False)\n",
              "      (bn1): BatchNorm2d(256, eps=1e-05, momentum=0.1, affine=True, track_running_stats=True)\n",
              "      (conv2): Conv2d(256, 256, kernel_size=(3, 3), stride=(1, 1), padding=(1, 1), bias=False)\n",
              "      (bn2): BatchNorm2d(256, eps=1e-05, momentum=0.1, affine=True, track_running_stats=True)\n",
              "      (conv3): Conv2d(256, 1024, kernel_size=(1, 1), stride=(1, 1), bias=False)\n",
              "      (bn3): BatchNorm2d(1024, eps=1e-05, momentum=0.1, affine=True, track_running_stats=True)\n",
              "      (relu): ReLU(inplace=True)\n",
              "    )\n",
              "    (5): Bottleneck(\n",
              "      (conv1): Conv2d(1024, 256, kernel_size=(1, 1), stride=(1, 1), bias=False)\n",
              "      (bn1): BatchNorm2d(256, eps=1e-05, momentum=0.1, affine=True, track_running_stats=True)\n",
              "      (conv2): Conv2d(256, 256, kernel_size=(3, 3), stride=(1, 1), padding=(1, 1), bias=False)\n",
              "      (bn2): BatchNorm2d(256, eps=1e-05, momentum=0.1, affine=True, track_running_stats=True)\n",
              "      (conv3): Conv2d(256, 1024, kernel_size=(1, 1), stride=(1, 1), bias=False)\n",
              "      (bn3): BatchNorm2d(1024, eps=1e-05, momentum=0.1, affine=True, track_running_stats=True)\n",
              "      (relu): ReLU(inplace=True)\n",
              "    )\n",
              "  )\n",
              "  (layer4): Sequential(\n",
              "    (0): Bottleneck(\n",
              "      (conv1): Conv2d(1024, 512, kernel_size=(1, 1), stride=(1, 1), bias=False)\n",
              "      (bn1): BatchNorm2d(512, eps=1e-05, momentum=0.1, affine=True, track_running_stats=True)\n",
              "      (conv2): Conv2d(512, 512, kernel_size=(3, 3), stride=(2, 2), padding=(1, 1), bias=False)\n",
              "      (bn2): BatchNorm2d(512, eps=1e-05, momentum=0.1, affine=True, track_running_stats=True)\n",
              "      (conv3): Conv2d(512, 2048, kernel_size=(1, 1), stride=(1, 1), bias=False)\n",
              "      (bn3): BatchNorm2d(2048, eps=1e-05, momentum=0.1, affine=True, track_running_stats=True)\n",
              "      (relu): ReLU(inplace=True)\n",
              "      (downsample): Sequential(\n",
              "        (0): Conv2d(1024, 2048, kernel_size=(1, 1), stride=(2, 2), bias=False)\n",
              "        (1): BatchNorm2d(2048, eps=1e-05, momentum=0.1, affine=True, track_running_stats=True)\n",
              "      )\n",
              "    )\n",
              "    (1): Bottleneck(\n",
              "      (conv1): Conv2d(2048, 512, kernel_size=(1, 1), stride=(1, 1), bias=False)\n",
              "      (bn1): BatchNorm2d(512, eps=1e-05, momentum=0.1, affine=True, track_running_stats=True)\n",
              "      (conv2): Conv2d(512, 512, kernel_size=(3, 3), stride=(1, 1), padding=(1, 1), bias=False)\n",
              "      (bn2): BatchNorm2d(512, eps=1e-05, momentum=0.1, affine=True, track_running_stats=True)\n",
              "      (conv3): Conv2d(512, 2048, kernel_size=(1, 1), stride=(1, 1), bias=False)\n",
              "      (bn3): BatchNorm2d(2048, eps=1e-05, momentum=0.1, affine=True, track_running_stats=True)\n",
              "      (relu): ReLU(inplace=True)\n",
              "    )\n",
              "    (2): Bottleneck(\n",
              "      (conv1): Conv2d(2048, 512, kernel_size=(1, 1), stride=(1, 1), bias=False)\n",
              "      (bn1): BatchNorm2d(512, eps=1e-05, momentum=0.1, affine=True, track_running_stats=True)\n",
              "      (conv2): Conv2d(512, 512, kernel_size=(3, 3), stride=(1, 1), padding=(1, 1), bias=False)\n",
              "      (bn2): BatchNorm2d(512, eps=1e-05, momentum=0.1, affine=True, track_running_stats=True)\n",
              "      (conv3): Conv2d(512, 2048, kernel_size=(1, 1), stride=(1, 1), bias=False)\n",
              "      (bn3): BatchNorm2d(2048, eps=1e-05, momentum=0.1, affine=True, track_running_stats=True)\n",
              "      (relu): ReLU(inplace=True)\n",
              "    )\n",
              "  )\n",
              "  (avgpool): AdaptiveAvgPool2d(output_size=(1, 1))\n",
              "  (fc): Linear(in_features=2048, out_features=1000, bias=True)\n",
              ")"
            ]
          },
          "metadata": {
            "tags": []
          },
          "execution_count": 131
        }
      ]
    },
    {
      "cell_type": "code",
      "metadata": {
        "id": "lQi0ryyLzdVW",
        "colab_type": "code",
        "colab": {}
      },
      "source": [
        "# ПИШЕМ ЦИКЛ ОБУЧЕНИЯ\n",
        "criterion = F.cross_entropy\n",
        "optimizer = torch.optim.Adam(resnet50.parameters())\n"
      ],
      "execution_count": null,
      "outputs": []
    },
    {
      "cell_type": "code",
      "metadata": {
        "id": "ogrhJEYs1Vrj",
        "colab_type": "code",
        "colab": {
          "base_uri": "https://localhost:8080/",
          "height": 337
        },
        "outputId": "e424b8c3-d07b-430c-d7f6-1093fde1151a"
      },
      "source": [
        "doc = np.array([])\n",
        "docval = np.array([])\n",
        "early_stopping_rate = 1000\n",
        "count = 0\n",
        "for i in range(3):\n",
        "  docs = train_one_epoch(resnet50, loaderGGGTrain, optimizer, device) # loader\n",
        "  docs_ = val_one_epoch(resnet50, loaderGGGTest, device)\n",
        "  doc = np.append(doc, docs)\n",
        "  docval = np.append(docval, docs_)\n",
        "  print(\"\\n\\tEpoch #%s\" %i)\n",
        "  print(\"\\ttrain_loss =%.3f\" %doc[-1], \"val_loss =%.3f\" %docval[-1], '\\n')\n",
        "  \n",
        "  # Ранняя остановка\n",
        "  if docval[-1] < early_stopping_rate:\n",
        "    early_stopping_rate = docval[-1]\n",
        "    count = 0\n",
        "  else:\n",
        "    count += 1\n",
        "    if count == 3:\n",
        "      break"
      ],
      "execution_count": null,
      "outputs": [
        {
          "output_type": "stream",
          "text": [
            "100%|██████████| 1562/1562 [00:57<00:00, 27.08it/s]\n",
            "100%|██████████| 156/156 [00:05<00:00, 26.69it/s]\n",
            "  0%|          | 0/1562 [00:00<?, ?it/s]"
          ],
          "name": "stderr"
        },
        {
          "output_type": "stream",
          "text": [
            "\n",
            "\tEpoch #0\n",
            "\ttrain_loss =3.196 val_loss =13.236 \n",
            "\n"
          ],
          "name": "stdout"
        },
        {
          "output_type": "stream",
          "text": [
            "100%|██████████| 1562/1562 [00:58<00:00, 26.86it/s]\n",
            "100%|██████████| 156/156 [00:05<00:00, 26.77it/s]\n",
            "  0%|          | 0/1562 [00:00<?, ?it/s]"
          ],
          "name": "stderr"
        },
        {
          "output_type": "stream",
          "text": [
            "\n",
            "\tEpoch #1\n",
            "\ttrain_loss =2.768 val_loss =13.751 \n",
            "\n"
          ],
          "name": "stdout"
        },
        {
          "output_type": "stream",
          "text": [
            "100%|██████████| 1562/1562 [00:57<00:00, 26.98it/s]\n",
            "100%|██████████| 156/156 [00:05<00:00, 26.77it/s]"
          ],
          "name": "stderr"
        },
        {
          "output_type": "stream",
          "text": [
            "\n",
            "\tEpoch #2\n",
            "\ttrain_loss =2.617 val_loss =12.070 \n",
            "\n"
          ],
          "name": "stdout"
        },
        {
          "output_type": "stream",
          "text": [
            "\n"
          ],
          "name": "stderr"
        }
      ]
    },
    {
      "cell_type": "markdown",
      "metadata": {
        "id": "-_y-MOC7bLGr",
        "colab_type": "text"
      },
      "source": [
        "# Задача 3 - Grouped Convolutions (2 балла)\n",
        "\n",
        "Задача на понимание групповых сверток.\n",
        "\n",
        "Стандартный вариант указать параметр __groups__  у `nn.Conv2d` и вызвать стандартный forward.\n",
        "\n",
        "Попробуйте написать `forward` сами, воспользовавшись `torch.nn.functional.conv2d()` с одним ограничением, что параметр __groups__ в `torch.nn.functional.conv2d()` передавать нельзя.\n",
        "\n",
        "Для решения советую циклом пройтись по `range(out_channels)` возможно с ненулевым шагом."
      ]
    },
    {
      "cell_type": "code",
      "metadata": {
        "id": "LEgeYE3XbLGr",
        "colab_type": "code",
        "colab": {}
      },
      "source": [
        "import torch\n",
        "import torch.nn as nn\n",
        "import torch.nn.functional as F\n",
        "\n",
        "def custom_forward(conv, x):\n",
        "    # put your code here\n",
        "    return result\n",
        "\n",
        "conv = nn.Conv2d(in_channels=8, out_channels=32, kernel_size=3, groups=2, padding=1)\n",
        "x = torch.rand(1, 8, 16, 16)\n",
        "assert torch.allclose(conv(x), custom_forward(conv, x))"
      ],
      "execution_count": null,
      "outputs": []
    },
    {
      "cell_type": "markdown",
      "metadata": {
        "id": "MdzATMAmbLGw",
        "colab_type": "text"
      },
      "source": [
        "# Задача 4 - Self-supervised learning (много баллов)"
      ]
    },
    {
      "cell_type": "markdown",
      "metadata": {
        "id": "s4B1uAXKbLGw",
        "colab_type": "text"
      },
      "source": [
        "Если вы дошли до задачи 4 и у вас еще много сил, энергии и времени, то вот вам настоящий challenge:\n",
        "\n",
        "Прочитайте статью про FixMatch https://arxiv.org/abs/2001.07685\n",
        "\n",
        "Вам предлагается в каком-либо виде воспользоваться предлагаемым в статье новым loss-ом применимо к задаче 1. А именно: в статье предлагается вариант того, как эффективно воспользоваться неразмеченными данными для улучшения качества модели.\n",
        "Если у вас написан хороший код для задачи 1, то не должно вызвать больших трудностей добавить упомянутый подход.\n",
        "Смотреть / использовать готовые какие-то реализации разрешается, главное вы должны понимать код, которым воспользовались.\n",
        "\n",
        "Пара советов:\n",
        "* скорей всего в одной из лекций мы покроем как писать свой вариант кастомный класс для загрузки данных, но вы можете сейчас попробовать погуглить (pytorch custom dataset) - он вам скорей всего понадобится, чтобы грузить одновременно размеченные и неразмеченные данные в 1 батче\n",
        "* неразмеченные данные можно взять из любого другого датасета, например cifar-100 либо же для начала можно просто имеющиеся train данные поделить на две части и забыть про существование таргетов на одной из частей\n",
        "* воспользуйтесь той же самой моделью и теми же самыми параметрами оптимизатора и т.д какие вы выбрали в 1й задаче\n",
        "* сильные и слабые аугментации (см. статью) можете сделать внутри вашего кастомного класса с датасетом (т.е. агументировать данные до отправки на gpu) либо делать их уже после загрузки батча из dataloader (желательно на гпу). Во втором варианте советую воспользоваться https://kornia.readthedocs.io/en/latest/augmentation.html\n",
        "* аугментации можете для дз сделать любые свои в качестве слабых и сильных, но на будущее старайтесь реимплемнтировать разные походы из статей как можно более похожим образом для начала, если еще нет интуиции как поменять что-то под вашу задачу, чтобы в случае если вы встраивате метод в какой-то пайплайн и у вас в итоге плохое качество, знать что в этом месте например проблемы нет, значит надо искать в другом месте"
      ]
    },
    {
      "cell_type": "code",
      "metadata": {
        "id": "y9IoMygzbLGx",
        "colab_type": "code",
        "colab": {}
      },
      "source": [
        ""
      ],
      "execution_count": null,
      "outputs": []
    }
  ]
}