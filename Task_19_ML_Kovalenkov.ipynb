{
 "cells": [
  {
   "cell_type": "markdown",
   "metadata": {},
   "source": [
    "# Прогноз необходимого числа наблюдений эксперимента"
   ]
  },
  {
   "cell_type": "code",
   "execution_count": 1,
   "metadata": {},
   "outputs": [],
   "source": [
    "%matplotlib inline\n",
    "from matplotlib import pyplot as plt\n",
    "import numpy as np\n",
    "from scipy import stats as st"
   ]
  },
  {
   "cell_type": "code",
   "execution_count": null,
   "metadata": {},
   "outputs": [],
   "source": [
    "# TODO: Определить необходимое число наблюдений \n",
    "#       в эксперименте для получения значимого результата:\n",
    "# Среднее значение: 100\n",
    "# STD: 10\n",
    "# Минимальный уровень изменений: +3% 100 -> 103 -> diff=3\n",
    "# Уровень значимости: 95%\n",
    "# Мощность: 90%\n",
    "# Проведите эксперимент и оцените долю ошибок I-го и II-го рода"
   ]
  },
  {
   "cell_type": "code",
   "execution_count": 59,
   "metadata": {},
   "outputs": [
    {
     "name": "stdout",
     "output_type": "stream",
     "text": [
      "10 0.154\n",
      "20 0.248\n",
      "30 0.344\n",
      "40 0.402\n",
      "50 0.484\n",
      "60 0.516\n",
      "70 0.534\n",
      "80 0.58\n",
      "90 0.672\n",
      "100 0.654\n",
      "110 0.742\n",
      "120 0.722\n",
      "130 0.78\n",
      "140 0.768\n",
      "150 0.84\n",
      "160 0.84\n",
      "170 0.866\n",
      "180 0.9\n"
     ]
    }
   ],
   "source": [
    "z_quantile = st.norm.ppf(0.95)\n",
    "num_exp = 500 #- для большого шага\n",
    "\n",
    "Res = []\n",
    "\n",
    "#for N in np.arange(10,1000,10): #ищем с большим шагом\n",
    "for N in np.arange(10,180000,10): #ищем с маленьким шагом\n",
    "    \n",
    "    experimentsA = st.norm.rvs(loc=100, scale=10, size=(num_exp, N))\n",
    "    experimentsB = st.norm.rvs(loc=103, scale=10, size=(num_exp, N))\n",
    "    \n",
    "    XmeanA = experimentsA.mean(axis = 1)\n",
    "    XmeanB = experimentsB.mean(axis = 1)\n",
    "    \n",
    "    diff = XmeanB - XmeanA\n",
    "    z = diff / np.sqrt(np.std(XmeanA) ** 2 + np.std(XmeanB) ** 2)\n",
    "    res = (z > z_quantile).mean()\n",
    "    Res.append(res)\n",
    "    print(N, res)\n",
    "    if res >= 0.90:\n",
    "        break"
   ]
  },
  {
   "cell_type": "markdown",
   "metadata": {},
   "source": [
    "Доля ошибок первого рода 90%\n",
    "\n",
    "Вероятность ошибки первого рода более 5%"
   ]
  },
  {
   "cell_type": "code",
   "execution_count": null,
   "metadata": {},
   "outputs": [],
   "source": []
  }
 ],
 "metadata": {
  "kernelspec": {
   "display_name": "Python 3",
   "language": "python",
   "name": "python3"
  },
  "language_info": {
   "codemirror_mode": {
    "name": "ipython",
    "version": 3
   },
   "file_extension": ".py",
   "mimetype": "text/x-python",
   "name": "python",
   "nbconvert_exporter": "python",
   "pygments_lexer": "ipython3",
   "version": "3.6.5"
  }
 },
 "nbformat": 4,
 "nbformat_minor": 2
}
